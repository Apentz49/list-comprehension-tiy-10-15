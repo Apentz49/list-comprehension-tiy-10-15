{
 "cells": [
  {
   "cell_type": "code",
   "execution_count": 191,
   "metadata": {
    "collapsed": true
   },
   "outputs": [],
   "source": [
    "import csv\n",
    "import itertools\n",
    "import pandas as pd\n",
    "import numpy as np\n",
    "import datetime\n",
    "import calendar as cal\n",
    "from collections import defaultdict"
   ]
  },
  {
   "cell_type": "code",
   "execution_count": 5,
   "metadata": {
    "collapsed": true
   },
   "outputs": [],
   "source": [
    "df = pd.read_csv('maui_buoy_data.txt', delim_whitespace=True)\n",
    "    "
   ]
  },
  {
   "cell_type": "code",
   "execution_count": 53,
   "metadata": {
    "collapsed": false
   },
   "outputs": [
    {
     "name": "stdout",
     "output_type": "stream",
     "text": [
      "<class 'pandas.core.frame.DataFrame'>\n",
      "Int64Index: 30 entries, 0 to 29\n",
      "Data columns (total 5 columns):\n",
      "WVHT    30 non-null float64\n",
      "DPD     30 non-null float64\n",
      "APD     30 non-null float64\n",
      "WTMP    30 non-null float64\n",
      "Date    30 non-null datetime64[ns]\n",
      "dtypes: datetime64[ns](1), float64(4)\n",
      "memory usage: 1.4 KB\n"
     ]
    }
   ],
   "source": [
    "cleandf.info()"
   ]
  },
  {
   "cell_type": "code",
   "execution_count": 58,
   "metadata": {
    "collapsed": false
   },
   "outputs": [
    {
     "data": {
      "text/html": [
       "<div style=\"max-height:1000px;max-width:1500px;overflow:auto;\">\n",
       "<table border=\"1\" class=\"dataframe\">\n",
       "  <thead>\n",
       "    <tr style=\"text-align: right;\">\n",
       "      <th></th>\n",
       "      <th>Wave Height</th>\n",
       "      <th>Wave Period</th>\n",
       "      <th>Avg Waves Per Second</th>\n",
       "      <th>Water Temp</th>\n",
       "      <th>Date</th>\n",
       "    </tr>\n",
       "  </thead>\n",
       "  <tbody>\n",
       "    <tr>\n",
       "      <th>0</th>\n",
       "      <td>1.55</td>\n",
       "      <td>8.33</td>\n",
       "      <td>5.04</td>\n",
       "      <td>26.5</td>\n",
       "      <td>2015-08-01</td>\n",
       "    </tr>\n",
       "    <tr>\n",
       "      <th>1</th>\n",
       "      <td>1.97</td>\n",
       "      <td>8.33</td>\n",
       "      <td>5.96</td>\n",
       "      <td>26.2</td>\n",
       "      <td>2015-08-02</td>\n",
       "    </tr>\n",
       "    <tr>\n",
       "      <th>2</th>\n",
       "      <td>1.89</td>\n",
       "      <td>9.09</td>\n",
       "      <td>5.97</td>\n",
       "      <td>26.2</td>\n",
       "      <td>2015-08-03</td>\n",
       "    </tr>\n",
       "    <tr>\n",
       "      <th>3</th>\n",
       "      <td>1.62</td>\n",
       "      <td>12.50</td>\n",
       "      <td>6.70</td>\n",
       "      <td>26.2</td>\n",
       "      <td>2015-08-04</td>\n",
       "    </tr>\n",
       "    <tr>\n",
       "      <th>4</th>\n",
       "      <td>1.72</td>\n",
       "      <td>9.09</td>\n",
       "      <td>7.31</td>\n",
       "      <td>26.5</td>\n",
       "      <td>2015-08-05</td>\n",
       "    </tr>\n",
       "  </tbody>\n",
       "</table>\n",
       "</div>"
      ],
      "text/plain": [
       "   Wave Height  Wave Period  Avg Waves Per Second  Water Temp       Date\n",
       "0         1.55         8.33                  5.04        26.5 2015-08-01\n",
       "1         1.97         8.33                  5.96        26.2 2015-08-02\n",
       "2         1.89         9.09                  5.97        26.2 2015-08-03\n",
       "3         1.62        12.50                  6.70        26.2 2015-08-04\n",
       "4         1.72         9.09                  7.31        26.5 2015-08-05"
      ]
     },
     "execution_count": 58,
     "metadata": {},
     "output_type": "execute_result"
    }
   ],
   "source": [
    "cleandf.head()"
   ]
  },
  {
   "cell_type": "code",
   "execution_count": 60,
   "metadata": {
    "collapsed": true
   },
   "outputs": [],
   "source": [
    "cleandf.to_csv('buoy.csv', sep=',', encoding='utf-8')"
   ]
  },
  {
   "cell_type": "code",
   "execution_count": 59,
   "metadata": {
    "collapsed": false
   },
   "outputs": [
    {
     "data": {
      "text/plain": [
       "[1, 2, 3, 4, 5, 6]"
      ]
     },
     "execution_count": 59,
     "metadata": {},
     "output_type": "execute_result"
    }
   ],
   "source": [
    "#Flatten a list of lists\n",
    "matrix = [[1,2,3], [4,5,6]]\n",
    "[x for row in matrix for x in row]"
   ]
  },
  {
   "cell_type": "code",
   "execution_count": 63,
   "metadata": {
    "collapsed": false
   },
   "outputs": [
    {
     "name": "stdout",
     "output_type": "stream",
     "text": [
      "Thr s n wsm tc shck n hr wy\n"
     ]
    }
   ],
   "source": [
    "# Remove all vowels from a sentence\n",
    "sentence = 'There is an awesome taco shack an hour away'\n",
    "vowels = 'aeiou'\n",
    "nonvowels = ''.join([l for l in sentence if not l in vowels])\n",
    "print(nonvowels)"
   ]
  },
  {
   "cell_type": "code",
   "execution_count": 92,
   "metadata": {
    "collapsed": false
   },
   "outputs": [
    {
     "name": "stdout",
     "output_type": "stream",
     "text": [
      "['26.5', '26.2', '26.2', '26.2', '26.5', '26.9', '27.0', '26.9', '27.1', '27.0', '26.9', '26.8', '26.9', '27.1', '27.1', '27.2', '27.5', '27.7', '27.6', '28.1', '27.5', '27.7', '27.4', '27.4', '28.0', '28.7', '28.9', '28.5', '28.1', '27.8']\n"
     ]
    }
   ],
   "source": [
    "# Create a list of Water Temps for each day from csv\n",
    "temps = [ x[4] for x in csv.reader(open('buoy.csv', 'r')) if x[4] != 'Water Temp' ]\n",
    "print(temps)"
   ]
  },
  {
   "cell_type": "code",
   "execution_count": 108,
   "metadata": {
    "collapsed": false
   },
   "outputs": [
    {
     "name": "stdout",
     "output_type": "stream",
     "text": [
      "[26.5, 26.2, 26.2, 26.2, 26.5, 26.9, 27.0, 26.9, 27.1, 27.0, 26.9, 26.8, 26.9, 27.1, 27.1, 27.2, 27.5, 27.7, 27.6, 28.1, 27.5, 27.7, 27.4, 27.4, 28.0, 28.7, 28.9, 28.5, 28.1, 27.8]\n"
     ]
    }
   ],
   "source": [
    "# Convert the Water Temps from a string to a float\n",
    "floats = [float(x) for x in temps]\n",
    "print(floats)"
   ]
  },
  {
   "cell_type": "code",
   "execution_count": 98,
   "metadata": {
    "collapsed": false
   },
   "outputs": [
    {
     "name": "stdout",
     "output_type": "stream",
     "text": [
      "[80, 79, 79, 79, 80, 80, 81, 80, 81, 81, 80, 80, 80, 81, 81, 81, 82, 82, 82, 83, 82, 82, 81, 81, 82, 84, 84, 83, 83, 82]\n"
     ]
    }
   ],
   "source": [
    "# Convert the Water Temps from Celsius to Fahrenheit. maybe round them if you want?\n",
    "Ferinheight = [ round(((float(9)/5)*x + 32)) for x in floats ]\n",
    "print(Ferinheight)"
   ]
  },
  {
   "cell_type": "code",
   "execution_count": 99,
   "metadata": {
    "collapsed": true
   },
   "outputs": [],
   "source": [
    "# Find the Average Water Temp in Fahrenheit for the month\n",
    "def avg_temp(temp):\n",
    "    return sum(temp) / float(len(temp))"
   ]
  },
  {
   "cell_type": "code",
   "execution_count": 100,
   "metadata": {
    "collapsed": false
   },
   "outputs": [
    {
     "data": {
      "text/plain": [
       "81.2"
      ]
     },
     "execution_count": 100,
     "metadata": {},
     "output_type": "execute_result"
    }
   ],
   "source": [
    "avg_temp(Ferinheight)"
   ]
  },
  {
   "cell_type": "code",
   "execution_count": 107,
   "metadata": {
    "collapsed": false
   },
   "outputs": [
    {
     "name": "stdout",
     "output_type": "stream",
     "text": [
      "{'2015-08-07': '3.52', '2015-08-13': '1.81', '2015-08-26': '0.8', '2015-08-23': '2.02', '2015-08-22': '1.71', '2015-08-30': '1.7', '2015-08-19': '1.54', '2015-08-05': '1.72', '2015-08-06': '4.09', '2015-08-08': '2.18', '2015-08-01': '1.55', '2015-08-31': '1.83', '2015-08-14': '1.8', '2015-08-10': '2.2', '2015-08-20': '1.52', '2015-08-04': '1.62', '2015-08-29': '1.42', '2015-08-27': '0.64', '2015-08-03': '1.89', '2015-08-11': '1.8', '2015-08-16': '1.6', '2015-08-12': '1.99', '2015-08-21': '1.47', '2015-08-25': '0.98', '2015-08-18': '1.51', '2015-08-15': '1.75', '2015-08-17': '1.43', '2015-08-28': '0.89', '2015-08-09': '2.14', '2015-08-02': '1.97'}\n"
     ]
    }
   ],
   "source": [
    "# Dict Comprehension of date and wave height\n",
    "my_dict = {row[5]: row[1] for row in csv.reader(open('buoy.csv', 'r')) if row[5] != 'Date' or row[1] != 'Wave Height'}\n",
    "print(my_dict)"
   ]
  },
  {
   "cell_type": "code",
   "execution_count": 245,
   "metadata": {
    "collapsed": false
   },
   "outputs": [
    {
     "data": {
      "text/plain": [
       "{'2015-08-01': '1.55',\n",
       " '2015-08-02': '1.97',\n",
       " '2015-08-03': '1.89',\n",
       " '2015-08-04': '1.62',\n",
       " '2015-08-05': '1.72',\n",
       " '2015-08-06': '4.09',\n",
       " '2015-08-07': '3.52',\n",
       " '2015-08-08': '2.18',\n",
       " '2015-08-09': '2.14',\n",
       " '2015-08-10': '2.2',\n",
       " '2015-08-11': '1.8',\n",
       " '2015-08-12': '1.99',\n",
       " '2015-08-13': '1.81',\n",
       " '2015-08-14': '1.8',\n",
       " '2015-08-15': '1.75',\n",
       " '2015-08-16': '1.6',\n",
       " '2015-08-17': '1.43',\n",
       " '2015-08-18': '1.51',\n",
       " '2015-08-19': '1.54',\n",
       " '2015-08-20': '1.52',\n",
       " '2015-08-21': '1.47',\n",
       " '2015-08-22': '1.71',\n",
       " '2015-08-23': '2.02',\n",
       " '2015-08-25': '0.98',\n",
       " '2015-08-26': '0.8',\n",
       " '2015-08-27': '0.64',\n",
       " '2015-08-28': '0.89',\n",
       " '2015-08-29': '1.42',\n",
       " '2015-08-30': '1.7',\n",
       " '2015-08-31': '1.83'}"
      ]
     },
     "execution_count": 245,
     "metadata": {},
     "output_type": "execute_result"
    }
   ],
   "source": [
    "my_dict"
   ]
  },
  {
   "cell_type": "code",
   "execution_count": 299,
   "metadata": {
    "collapsed": false
   },
   "outputs": [
    {
     "name": "stdout",
     "output_type": "stream",
     "text": [
      "defaultdict(<class 'list'>, {0: ['1.83', '2.2', '1.89', '1.43'], 1: ['1.62', '1.8', '0.98', '1.51'], 2: ['0.8', '1.54', '1.72', '1.99'], 3: ['1.81', '4.09', '1.52', '0.64'], 4: ['3.52', '1.8', '1.47', '0.89'], 5: ['1.71', '2.18', '1.55', '1.42', '1.75'], 6: ['2.02', '1.7', '1.6', '2.14', '1.97']})\n"
     ]
    }
   ],
   "source": [
    "# Change each Date to its numiceral day of the week, create a list of values for each day of the week\n",
    "week_dict = defaultdict(list)\n",
    "for key, value in my_dict.items():\n",
    "    new_key = datetime.datetime.strptime(key,'%Y-%m-%d')\n",
    "    new_key = cal.weekday(new_key.year, new_key.month, new_key.day)\n",
    "    week_dict[new_key].append(value,)\n",
    "print(week_dict)\n",
    "\n",
    "    "
   ]
  },
  {
   "cell_type": "code",
   "execution_count": 300,
   "metadata": {
    "collapsed": false
   },
   "outputs": [
    {
     "data": {
      "text/plain": [
       "defaultdict(<class 'list'>, {0: ['1.83', '2.2', '1.89', '1.43'], 1: ['1.62', '1.8', '0.98', '1.51'], 2: ['0.8', '1.54', '1.72', '1.99'], 3: ['1.81', '4.09', '1.52', '0.64'], 4: ['3.52', '1.8', '1.47', '0.89'], 5: ['1.71', '2.18', '1.55', '1.42', '1.75'], 6: ['2.02', '1.7', '1.6', '2.14', '1.97']})"
      ]
     },
     "execution_count": 300,
     "metadata": {},
     "output_type": "execute_result"
    }
   ],
   "source": [
    "week_dict"
   ]
  },
  {
   "cell_type": "code",
   "execution_count": 317,
   "metadata": {
    "collapsed": false
   },
   "outputs": [],
   "source": [
    "# Find the avg wave height for each day\n",
    "avg_dict = {key: (sum([float(i) for i in values]) // len(values)) for key, values in week_dict.items()}"
   ]
  },
  {
   "cell_type": "code",
   "execution_count": 318,
   "metadata": {
    "collapsed": false
   },
   "outputs": [
    {
     "data": {
      "text/plain": [
       "{0: 1.0, 1: 1.0, 2: 1.0, 3: 2.0, 4: 1.0, 5: 1.0, 6: 1.0}"
      ]
     },
     "execution_count": 318,
     "metadata": {},
     "output_type": "execute_result"
    }
   ],
   "source": [
    "avg_dict"
   ]
  },
  {
   "cell_type": "code",
   "execution_count": 472,
   "metadata": {
    "collapsed": false
   },
   "outputs": [
    {
     "ename": "TypeError",
     "evalue": "'type' object is not iterable",
     "output_type": "error",
     "traceback": [
      "\u001b[0;31m---------------------------------------------------------------------------\u001b[0m",
      "\u001b[0;31mTypeError\u001b[0m                                 Traceback (most recent call last)",
      "\u001b[0;32m<ipython-input-472-5bf720ef786a>\u001b[0m in \u001b[0;36m<module>\u001b[0;34m()\u001b[0m\n\u001b[1;32m      1\u001b[0m \u001b[0;31m# Find the total for each list of values\u001b[0m\u001b[0;34m\u001b[0m\u001b[0;34m\u001b[0m\u001b[0m\n\u001b[1;32m      2\u001b[0m this_dict = {k: {sum(map(float, v)) for k, v in week_dict.items()}\n\u001b[0;32m----> 3\u001b[0;31m              (k, max(v))for k, v in set}\n\u001b[0m",
      "\u001b[0;31mTypeError\u001b[0m: 'type' object is not iterable"
     ]
    }
   ],
   "source": [
    "# Find the total for each list of values\n",
    "this_dict = {k: {sum(map(float, v)) for k, v in week_dict.items()}\n",
    "             (k, max(v))for k, v in set}"
   ]
  },
  {
   "cell_type": "code",
   "execution_count": 444,
   "metadata": {
    "collapsed": false
   },
   "outputs": [
    {
     "data": {
      "text/plain": [
       "{0: [7.35, 5.91, 6.05, 8.06, 7.68, 8.61, 9.430000000000001],\n",
       " 1: [7.35, 5.91, 6.05, 8.06, 7.68, 8.61, 9.430000000000001],\n",
       " 2: [7.35, 5.91, 6.05, 8.06, 7.68, 8.61, 9.430000000000001],\n",
       " 3: [7.35, 5.91, 6.05, 8.06, 7.68, 8.61, 9.430000000000001],\n",
       " 4: [7.35, 5.91, 6.05, 8.06, 7.68, 8.61, 9.430000000000001],\n",
       " 5: [7.35, 5.91, 6.05, 8.06, 7.68, 8.61, 9.430000000000001],\n",
       " 6: [7.35, 5.91, 6.05, 8.06, 7.68, 8.61, 9.430000000000001]}"
      ]
     },
     "execution_count": 444,
     "metadata": {},
     "output_type": "execute_result"
    }
   ],
   "source": [
    "this_dict"
   ]
  },
  {
   "cell_type": "code",
   "execution_count": null,
   "metadata": {
    "collapsed": true
   },
   "outputs": [],
   "source": [
    "for k, v in this_dict.items() if v == max(this_dict.values())"
   ]
  },
  {
   "cell_type": "code",
   "execution_count": null,
   "metadata": {
    "collapsed": true
   },
   "outputs": [],
   "source": []
  }
 ],
 "metadata": {
  "kernelspec": {
   "display_name": "Python 3",
   "language": "python",
   "name": "python3"
  },
  "language_info": {
   "codemirror_mode": {
    "name": "ipython",
    "version": 3
   },
   "file_extension": ".py",
   "mimetype": "text/x-python",
   "name": "python",
   "nbconvert_exporter": "python",
   "pygments_lexer": "ipython3",
   "version": "3.4.3"
  }
 },
 "nbformat": 4,
 "nbformat_minor": 0
}
